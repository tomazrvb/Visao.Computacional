{
 "cells": [
  {
   "cell_type": "markdown",
   "metadata": {},
   "source": [
    "# -- Tips --"
   ]
  },
  {
   "cell_type": "code",
   "execution_count": 7,
   "metadata": {},
   "outputs": [],
   "source": [
    "import numpy as np\n",
    "import matplotlib.pyplot as plt\n",
    "%matplotlib inline"
   ]
  },
  {
   "cell_type": "markdown",
   "metadata": {},
   "source": [
    "# Ler conjunto de imagens"
   ]
  },
  {
   "cell_type": "code",
   "execution_count": 1,
   "metadata": {},
   "outputs": [],
   "source": [
    "from skimage.io import imread_collection"
   ]
  },
  {
   "cell_type": "code",
   "execution_count": 55,
   "metadata": {},
   "outputs": [],
   "source": [
    "path_database = '/Users/romuere/Dropbox/MTAP/databases/database2_raw_data/small_capacete/'\n",
    "imagens_com_capacete = imread_collection(path_database+'comcapacete/*.png')\n",
    "imagens_sem_capacete = imread_collection(path_database+'semcapacete/*.png')"
   ]
  },
  {
   "cell_type": "code",
   "execution_count": 56,
   "metadata": {},
   "outputs": [
    {
     "data": {
      "text/plain": [
       "['/Users/romuere/Dropbox/MTAP/databases/database2_raw_data/small_capacete/comcapacete/2.png',\n",
       " '/Users/romuere/Dropbox/MTAP/databases/database2_raw_data/small_capacete/comcapacete/13.png',\n",
       " '/Users/romuere/Dropbox/MTAP/databases/database2_raw_data/small_capacete/comcapacete/14.png',\n",
       " '/Users/romuere/Dropbox/MTAP/databases/database2_raw_data/small_capacete/comcapacete/38.png',\n",
       " '/Users/romuere/Dropbox/MTAP/databases/database2_raw_data/small_capacete/comcapacete/47.png',\n",
       " '/Users/romuere/Dropbox/MTAP/databases/database2_raw_data/small_capacete/comcapacete/50.png',\n",
       " '/Users/romuere/Dropbox/MTAP/databases/database2_raw_data/small_capacete/comcapacete/52.png',\n",
       " '/Users/romuere/Dropbox/MTAP/databases/database2_raw_data/small_capacete/comcapacete/54.png',\n",
       " '/Users/romuere/Dropbox/MTAP/databases/database2_raw_data/small_capacete/comcapacete/55.png',\n",
       " '/Users/romuere/Dropbox/MTAP/databases/database2_raw_data/small_capacete/comcapacete/58.png']"
      ]
     },
     "execution_count": 56,
     "metadata": {},
     "output_type": "execute_result"
    }
   ],
   "source": [
    "imagens_com_capacete.files"
   ]
  },
  {
   "cell_type": "code",
   "execution_count": 57,
   "metadata": {},
   "outputs": [
    {
     "data": {
      "text/plain": [
       "['/Users/romuere/Dropbox/MTAP/databases/database2_raw_data/small_capacete/semcapacete/1.png',\n",
       " '/Users/romuere/Dropbox/MTAP/databases/database2_raw_data/small_capacete/semcapacete/8.png',\n",
       " '/Users/romuere/Dropbox/MTAP/databases/database2_raw_data/small_capacete/semcapacete/16.png',\n",
       " '/Users/romuere/Dropbox/MTAP/databases/database2_raw_data/small_capacete/semcapacete/26.png',\n",
       " '/Users/romuere/Dropbox/MTAP/databases/database2_raw_data/small_capacete/semcapacete/34.png',\n",
       " '/Users/romuere/Dropbox/MTAP/databases/database2_raw_data/small_capacete/semcapacete/35.png',\n",
       " '/Users/romuere/Dropbox/MTAP/databases/database2_raw_data/small_capacete/semcapacete/37.png',\n",
       " '/Users/romuere/Dropbox/MTAP/databases/database2_raw_data/small_capacete/semcapacete/42.png',\n",
       " '/Users/romuere/Dropbox/MTAP/databases/database2_raw_data/small_capacete/semcapacete/43.png',\n",
       " '/Users/romuere/Dropbox/MTAP/databases/database2_raw_data/small_capacete/semcapacete/49.png']"
      ]
     },
     "execution_count": 57,
     "metadata": {},
     "output_type": "execute_result"
    }
   ],
   "source": [
    "imagens_sem_capacete.files"
   ]
  },
  {
   "cell_type": "code",
   "execution_count": 58,
   "metadata": {},
   "outputs": [
    {
     "data": {
      "text/plain": [
       "<matplotlib.image.AxesImage at 0x1c13a19ba8>"
      ]
     },
     "execution_count": 58,
     "metadata": {},
     "output_type": "execute_result"
    },
    {
     "data": {
      "image/png": "[encoded data removed]",
      "text/plain": [
       "<Figure size 432x288 with 1 Axes>"
      ]
     },
     "metadata": {
      "needs_background": "light"
     },
     "output_type": "display_data"
    }
   ],
   "source": [
    "plt.imshow(imagens_com_capacete[0])"
   ]
  },
  {
   "cell_type": "code",
   "execution_count": 59,
   "metadata": {},
   "outputs": [
    {
     "data": {
      "text/plain": [
       "<matplotlib.image.AxesImage at 0x1c13a4d828>"
      ]
     },
     "execution_count": 59,
     "metadata": {},
     "output_type": "execute_result"
    },
    {
     "data": {
      "image/png": "[encoded data removed]",
      "text/plain": [
       "<Figure size 432x288 with 1 Axes>"
      ]
     },
     "metadata": {
      "needs_background": "light"
     },
     "output_type": "display_data"
    }
   ],
   "source": [
    "plt.imshow(imagens_sem_capacete[0])"
   ]
  },
  {
   "cell_type": "code",
   "execution_count": null,
   "metadata": {},
   "outputs": [],
   "source": []
  },
  {
   "cell_type": "code",
   "execution_count": null,
   "metadata": {},
   "outputs": [],
   "source": []
  },
  {
   "cell_type": "markdown",
   "metadata": {},
   "source": [
    "# Calcular tempo de processamento"
   ]
  },
  {
   "cell_type": "code",
   "execution_count": 60,
   "metadata": {},
   "outputs": [],
   "source": [
    "import time\n",
    "from skimage.filters import threshold_yen\n",
    "from skimage.color import rgb2gray\n",
    "from skimage.restoration import denoise_bilateral "
   ]
  },
  {
   "cell_type": "code",
   "execution_count": 61,
   "metadata": {},
   "outputs": [],
   "source": [
    "def faz_algum_processamento_na_imagem(im):\n",
    "    cinza = rgb2gray(im)\n",
    "    filtrada = denoise_bilateral(cinza,win_size=9,multichannel=False)\n",
    "    media = np.mean(filtrada)\n",
    "    desvio = np.std(filtrada)\n",
    "    mx = np.max(filtrada)\n",
    "    mn = np.min(filtrada)\n",
    "    return [media,desvio,mx,mn]"
   ]
  },
  {
   "cell_type": "code",
   "execution_count": 62,
   "metadata": {},
   "outputs": [
    {
     "name": "stdout",
     "output_type": "stream",
     "text": [
      "0.03149104118347168\n"
     ]
    }
   ],
   "source": [
    "inicio = time.time()\n",
    "\n",
    "atributos_cc = np.zeros((len(imagens_com_capacete),4))\n",
    "for id_im,im in enumerate(imagens_com_capacete):\n",
    "    atributos_cc[id_im,:] = faz_algum_processamento_na_imagem(im)\n",
    "\n",
    "fim = time.time()\n",
    "tempo_processamento = fim-inicio\n",
    "print(tempo_processamento)"
   ]
  },
  {
   "cell_type": "code",
   "execution_count": null,
   "metadata": {},
   "outputs": [],
   "source": []
  },
  {
   "cell_type": "code",
   "execution_count": null,
   "metadata": {},
   "outputs": [],
   "source": []
  },
  {
   "cell_type": "markdown",
   "metadata": {},
   "source": [
    "# Processamento em paralelo\n",
    "- n_jobs -> quantidade de processos em paralelo\n",
    "- n_jobs = -1 -> utiliza todos os \"cores\" do processador."
   ]
  },
  {
   "cell_type": "code",
   "execution_count": 63,
   "metadata": {},
   "outputs": [],
   "source": [
    "import joblib "
   ]
  },
  {
   "cell_type": "code",
   "execution_count": 66,
   "metadata": {},
   "outputs": [
    {
     "name": "stdout",
     "output_type": "stream",
     "text": [
      "0.2082078456878662\n"
     ]
    }
   ],
   "source": [
    "inicio_paralelo = time.time()\n",
    "\n",
    "atributos_cc_paralelo = joblib.Parallel(n_jobs=-1)(joblib.delayed(faz_algum_processamento_na_imagem)(imagens_com_capacete[nr]) for nr in range(len(imagens_com_capacete)))\n",
    "\n",
    "fim_paralelo = time.time()\n",
    "tempo_processamento_paralelo = fim_paralelo-inicio_paralelo\n",
    "print(tempo_processamento_paralelo)"
   ]
  },
  {
   "cell_type": "markdown",
   "metadata": {},
   "source": [
    "n_jobs -> quantidade de processos em paralelo\n",
    "n_jobs = -1 -> utiliza todos os \"cores\" do processador.\n"
   ]
  },
  {
   "cell_type": "code",
   "execution_count": 72,
   "metadata": {},
   "outputs": [
    {
     "data": {
      "text/plain": [
       "[[0.41013260107983485,\n",
       "  0.1675790512013214,\n",
       "  0.9835244762238823,\n",
       "  0.12035527651965847],\n",
       " [0.5612920257901762,\n",
       "  0.21292120972306627,\n",
       "  0.9904510092336982,\n",
       "  0.19778642546196218],\n",
       " [0.4381472197690385,\n",
       "  0.19776034353224814,\n",
       "  0.9957783681388289,\n",
       "  0.15683207376722463],\n",
       " [0.46381635711025687,\n",
       "  0.1928088891785426,\n",
       "  0.9480980556752003,\n",
       "  0.11685309169678358],\n",
       " [0.500697365170333,\n",
       "  0.21012328603494465,\n",
       "  0.9947926090920779,\n",
       "  0.0700326875725446],\n",
       " [0.42132670559294094,\n",
       "  0.16707305930907723,\n",
       "  0.9645105131591726,\n",
       "  0.1327336355406371],\n",
       " [0.44013223741515134,\n",
       "  0.14485676378588214,\n",
       "  0.9767370642900733,\n",
       "  0.24167738548726903],\n",
       " [0.48316630804865335,\n",
       "  0.15853263947229293,\n",
       "  0.8333698629183828,\n",
       "  0.19257445182678729],\n",
       " [0.3596359680888822,\n",
       "  0.19174505846271964,\n",
       "  0.9219338116721957,\n",
       "  0.12355570705706813],\n",
       " [0.41288343090566226,\n",
       "  0.2077146891898893,\n",
       "  0.9980991333705439,\n",
       "  0.10348316092633539]]"
      ]
     },
     "execution_count": 72,
     "metadata": {},
     "output_type": "execute_result"
    }
   ],
   "source": [
    "atributos_cc_paralelo"
   ]
  },
  {
   "cell_type": "code",
   "execution_count": 73,
   "metadata": {},
   "outputs": [
    {
     "data": {
      "text/plain": [
       "array([[0.4101326 , 0.16757905, 0.98352448, 0.12035528],\n",
       "       [0.56129203, 0.21292121, 0.99045101, 0.19778643],\n",
       "       [0.43814722, 0.19776034, 0.99577837, 0.15683207],\n",
       "       [0.46381636, 0.19280889, 0.94809806, 0.11685309],\n",
       "       [0.50069737, 0.21012329, 0.99479261, 0.07003269],\n",
       "       [0.42132671, 0.16707306, 0.96451051, 0.13273364],\n",
       "       [0.44013224, 0.14485676, 0.97673706, 0.24167739],\n",
       "       [0.48316631, 0.15853264, 0.83336986, 0.19257445],\n",
       "       [0.35963597, 0.19174506, 0.92193381, 0.12355571],\n",
       "       [0.41288343, 0.20771469, 0.99809913, 0.10348316]])"
      ]
     },
     "execution_count": 73,
     "metadata": {},
     "output_type": "execute_result"
    }
   ],
   "source": [
    "atributos_cc"
   ]
  },
  {
   "cell_type": "code",
   "execution_count": null,
   "metadata": {},
   "outputs": [],
   "source": []
  },
  {
   "cell_type": "code",
   "execution_count": null,
   "metadata": {},
   "outputs": [],
   "source": []
  }
 ],
 "metadata": {
  "kernelspec": {
   "display_name": "Python 3",
   "language": "python",
   "name": "python3"
  },
  "language_info": {
   "codemirror_mode": {
    "name": "ipython",
    "version": 3
   },
   "file_extension": ".py",
   "mimetype": "text/x-python",
   "name": "python",
   "nbconvert_exporter": "python",
   "pygments_lexer": "ipython3",
   "version": "3.5.6"
  }
 },
 "nbformat": 4,
 "nbformat_minor": 2
}
