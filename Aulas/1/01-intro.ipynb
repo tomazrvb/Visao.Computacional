{
 "cells": [
  {
   "cell_type": "markdown",
   "metadata": {
    "cell_tags": []
   },
   "source": [
    "## 1 -  Analisando Dados de Pacientes"
   ]
  },
  {
   "cell_type": "markdown",
   "metadata": {
    "cell_tags": []
   },
   "source": [
    "Estamos estudando inflamação em pacientes que receberam um novo tratamento para artrite, precisamos analisar a primeira dúzia de conjuntos de dados.\n",
    "Os conjuntos de dados são armazenados em valores separados por vírgula no formato CSV:\n",
    "cada linha contém informações para um único paciente,\n",
    "e as colunas representam dias sucessivos.\n",
    "As primeiras fileiras do nosso primeiro arquivo se parecem com isto:\n",
    "\n",
    "    0,0,1,3,1,2,4,7,8,3,3,3,10,5,7,4,7,7,12,18,6,13,11,11,7,7,4,6,8,8,4,4,5,7,3,4,2,3,0,0\n",
    "    0,1,2,1,2,1,3,2,2,6,10,11,5,9,4,4,7,16,8,6,18,4,12,5,12,7,11,5,11,3,3,5,4,4,5,5,1,1,0,1\n",
    "    0,1,1,3,3,2,6,2,5,9,5,7,4,5,4,15,5,11,9,10,19,14,12,17,7,12,11,7,4,2,10,5,4,2,2,3,2,2,1,1\n",
    "    0,0,2,0,4,2,2,1,6,7,10,7,9,13,8,8,15,10,10,7,17,4,4,7,6,15,6,4,9,11,3,5,6,3,3,4,2,3,2,1\n",
    "    0,1,1,3,3,1,3,5,2,4,4,7,6,5,3,10,8,10,6,17,9,14,9,7,13,9,12,6,7,7,9,6,3,2,2,4,2,0,1,1"
   ]
  },
  {
   "cell_type": "markdown",
   "metadata": {
    "cell_tags": []
   },
   "source": [
    "Nós queremos:\n",
    "\n",
    "* carregar esses dados na memória,\n",
    "* calcular a inflamação média por dia em todos os pacientes, e\n",
    "* traçar o resultado.\n",
    "\n"
   ]
  },
  {
   "cell_type": "markdown",
   "metadata": {
    "cell_tags": [
     "objectives"
    ]
   },
   "source": [
    "#### Objetivos da atividade: \n",
    "- Explicar o que é uma biblioteca e para que as bibliotecas são usadas.\n",
    "- Importar uma biblioteca Python e usar as funções que ela contém.\n",
    "- Ler dados tabulares de um arquivo em um programa.\n",
    "- Atribuir valores a variáveis.\n",
    "- Selecionar valores individuais e subsecções de dados.\n",
    "- Executar operações em matrizes de dados.\n",
    "- Plotar gráficos simples a partir de dados."
   ]
  },
  {
   "cell_type": "markdown",
   "metadata": {
    "cell_tags": []
   },
   "source": [
    "### Armazenando Dados no Computador \n",
    "Nesta lição, aprenderemos a manipular o conjunto de dados de inflamação com o Python. Mas antes de discutir como lidar com muitos dados, mostraremos como armazenar um único valor no computador.\n",
    "\n",
    "A linha abaixo atribui o valor 55 a variável weight_kg (Sem precisar declarar o tipo).\n",
    "\n",
    "Quando terminar de digitar, pressione $Shift + Enter$ que o notebook executará o comando."
   ]
  },
  {
   "cell_type": "code",
   "execution_count": 2,
   "metadata": {},
   "outputs": [],
   "source": [
    "aula = 'visao computacional'"
   ]
  },
  {
   "cell_type": "code",
   "execution_count": 3,
   "metadata": {
    "cell_tags": []
   },
   "outputs": [],
   "source": [
    "weight_kg = 55"
   ]
  },
  {
   "cell_type": "markdown",
   "metadata": {
    "cell_tags": []
   },
   "source": [
    "Uma vez que a variável tem um valor, podemos imprimi-la:"
   ]
  },
  {
   "cell_type": "code",
   "execution_count": 4,
   "metadata": {
    "cell_tags": []
   },
   "outputs": [
    {
     "name": "stdout",
     "output_type": "stream",
     "text": [
      "55\n"
     ]
    }
   ],
   "source": [
    "print (weight_kg)"
   ]
  },
  {
   "cell_type": "markdown",
   "metadata": {
    "cell_tags": []
   },
   "source": [
    "e fazer operações aritméticas com ela:"
   ]
  },
  {
   "cell_type": "code",
   "execution_count": 5,
   "metadata": {
    "cell_tags": []
   },
   "outputs": [
    {
     "name": "stdout",
     "output_type": "stream",
     "text": [
      "peso em libras: 121.00000000000001\n"
     ]
    }
   ],
   "source": [
    "print ('peso em libras: '+str(2.2 * weight_kg))"
   ]
  },
  {
   "cell_type": "markdown",
   "metadata": {
    "cell_tags": []
   },
   "source": [
    "Também podemos alterar o valor de uma variável, atribuindo-lhe um novo:"
   ]
  },
  {
   "cell_type": "code",
   "execution_count": 6,
   "metadata": {
    "cell_tags": []
   },
   "outputs": [
    {
     "name": "stdout",
     "output_type": "stream",
     "text": [
      "peso em quilogramas: 57.5\n"
     ]
    }
   ],
   "source": [
    "weight_kg = 57.5\n",
    "print ('peso em quilogramas:', weight_kg)"
   ]
  },
  {
   "cell_type": "markdown",
   "metadata": {
    "cell_tags": []
   },
   "source": [
    "Como mostra o exemplo acima,podemos imprimir várias coisas ao mesmo tempo, separando-as com vírgulas.\n",
    "\n",
    "Se imaginarmos a variável como um post-it com um nome escrito nele, a atribuição é como colar a nota em um valor particular:"
   ]
  },
  {
   "cell_type": "markdown",
   "metadata": {
    "cell_tags": []
   },
   "source": [
    "<img src=\"files/img/python-sticky-note-variables-01.svg\" alt=\"Variables as Sticky Notes\" />"
   ]
  },
  {
   "cell_type": "markdown",
   "metadata": {
    "cell_tags": []
   },
   "source": [
    "Isso significa que atribuir um valor a uma variável *não* altera os valores de outras variáveis.\n",
    "Por exemplo, vamos armazenar o peso do sujeito em libras em uma variável:"
   ]
  },
  {
   "cell_type": "code",
   "execution_count": 7,
   "metadata": {
    "cell_tags": []
   },
   "outputs": [
    {
     "name": "stdout",
     "output_type": "stream",
     "text": [
      "weight in kilograms: 57.5 and in pounds: 126.50000000000001\n"
     ]
    }
   ],
   "source": [
    "weight_lb = 2.2 * weight_kg\n",
    "print ('weight in kilograms:', weight_kg, 'and in pounds:', weight_lb)"
   ]
  },
  {
   "cell_type": "markdown",
   "metadata": {},
   "source": [
    "<img src=\"files/img/python-sticky-note-variables-02.svg\" alt=\"Creating Another Variable\" />"
   ]
  },
  {
   "cell_type": "markdown",
   "metadata": {
    "cell_tags": []
   },
   "source": [
    "e então mudar a variável `weight_kg`:"
   ]
  },
  {
   "cell_type": "code",
   "execution_count": 8,
   "metadata": {
    "cell_tags": []
   },
   "outputs": [
    {
     "name": "stdout",
     "output_type": "stream",
     "text": [
      "weight in kilograms is now: 100.0 and weight in pounds is still: 126.50000000000001\n"
     ]
    }
   ],
   "source": [
    "weight_kg = 100.0\n",
    "print ('weight in kilograms is now:', weight_kg, 'and weight in pounds is still:', weight_lb)"
   ]
  },
  {
   "cell_type": "markdown",
   "metadata": {},
   "source": [
    "<img src=\"files/img/python-sticky-note-variables-03.svg\" alt=\"Updating a Variable\" />"
   ]
  },
  {
   "cell_type": "markdown",
   "metadata": {
    "cell_tags": []
   },
   "source": [
    "Uma vez que `weight_lb` não \"se lembra\" de onde seu valor veio, ela não é atualizada automaticamente quando `weight_kg` muda."
   ]
  },
  {
   "cell_type": "markdown",
   "metadata": {},
   "source": [
    ">#### DICA\n",
    ">Você pode usar o comando% whos a qualquer momento para ver quais variáveis você criou e quais módulos você carregou na memória do computador. Como este é um comando IPython, ele só funcionará se você estiver em um terminal IPython ou no Notebook Jupyter.\n"
   ]
  },
  {
   "cell_type": "code",
   "execution_count": 9,
   "metadata": {},
   "outputs": [
    {
     "name": "stdout",
     "output_type": "stream",
     "text": [
      "Variable    Type      Data/Info\n",
      "-------------------------------\n",
      "aula        str       visao computacional\n",
      "pyplot      module    <module 'matplotlib.pyplo<...>es/matplotlib/pyplot.py'>\n",
      "weight_kg   float     100.0\n",
      "weight_lb   float     126.50000000000001\n"
     ]
    }
   ],
   "source": [
    "%whos"
   ]
  },
  {
   "cell_type": "markdown",
   "metadata": {},
   "source": [
    "### Carregando os Dados\n",
    "Palavras são úteis,\n",
    "mas o que é mais útil ainda são as frases e histórias que podemos construir com elas.\n",
    "Da mesma forma,\n",
    "enquanto muitas ferramentas poderosas são incorporadas a lingaugens como o Python,\n",
    "ainda mais utilidades nas [bibliotecas](http://swcarpentry.github.io/python-novice-inflammation-2.7/reference.html#library) são construídas.\n",
    "\n",
    "Para carregar nossos dados de inflamações,\n",
    "precisamos [importar](http://swcarpentry.github.io/python-novice-inflammation-2.7/reference.html#import) uma biblioteca chamada NumPy\n",
    "que sabe operar em matrizes:"
   ]
  },
  {
   "cell_type": "code",
   "execution_count": 10,
   "metadata": {},
   "outputs": [],
   "source": [
    "import numpy"
   ]
  },
  {
   "cell_type": "markdown",
   "metadata": {},
   "source": [
    "Importar uma biblioteca é como tirar um equipamento de laboratório de um armário de armazenamento\n",
    "e configurando-o no banco.\n",
    "Uma vez que está pronto,\n",
    "podemos pedir à biblioteca que leia nosso arquivo de dados para nós:"
   ]
  },
  {
   "cell_type": "code",
   "execution_count": 11,
   "metadata": {},
   "outputs": [
    {
     "data": {
      "text/plain": [
       "array([[0., 0., 1., ..., 3., 0., 0.],\n",
       "       [0., 1., 2., ..., 1., 0., 1.],\n",
       "       [0., 1., 1., ..., 2., 1., 1.],\n",
       "       ...,\n",
       "       [0., 1., 1., ..., 1., 1., 1.],\n",
       "       [0., 0., 0., ..., 0., 2., 0.],\n",
       "       [0., 0., 1., ..., 1., 1., 0.]])"
      ]
     },
     "execution_count": 11,
     "metadata": {},
     "output_type": "execute_result"
    }
   ],
   "source": [
    "numpy.loadtxt(fname='data/inflammation-01.csv', delimiter=',')"
   ]
  },
  {
   "cell_type": "markdown",
   "metadata": {},
   "source": [
    "A expressão `numpy.loadtxt (...)` é uma [chamada de função](http://swcarpentry.github.io/python-novice-inflammation-2.7/reference.html#function-call)\n",
    "que pede ao Python para executar a função `loadtxt` que pertence à biblioteca `numpy`.\n",
    "Esta [notação com ponto](http://swcarpentry.github.io/python-novice-inflammation-2.7/reference.html#dotted-notation) é usada em todos os lugares em Python\n",
    "para se referir às partes de coisas como `todo.parte`.\n",
    "\n",
    "`numpy.loadtxt` tem dois [parâmetros](http://swcarpentry.github.io/python-novice-inflammation-2.7/reference.html#parameter):\n",
    "o nome do arquivo que queremos ler,\n",
    "e o [delimitador](http://swcarpentry.github.io/python-novice-inflammation-2.7/reference.html#delimiter) que separa valores em uma linha.\n",
    "Estes dois precisam ser cadeias de caracteres (ou [strings](http://swcarpentry.github.io/python-novice-inflammation-2.7/reference.html#string) para abreviar),\n",
    "então os colocamos entre aspas.\n",
    "\n",
    "O notebook executa nosso comando. Como não dissemos a ele para fazer algo com a saída da função, o notebook exibe isso.\n",
    "Nesse caso, essa saída é o dado que acabamos de carregar.\n",
    "Por padrão, apenas algumas linhas e colunas são mostradas\n",
    "(com `...` para omitir elementos ao exibir grandes arrays).\n",
    "Para economizar espaço,\n",
    "Python exibe números como `1.` em vez de` 1.0`\n",
    "quando não há nada interessante após o ponto decimal."
   ]
  },
  {
   "cell_type": "markdown",
   "metadata": {},
   "source": [
    "Nossa chamada para `numpy.loadtxt` leu nosso arquivo, mas não salvou os dados na memória.\n",
    "Para fazer isso,\n",
    "nós precisamos [atribuir](http://swcarpentry.github.io/python-novice-inflammation-2.7/reference.html#assignment) a matriz para uma [variável](http://swcarpentry.github.io/python -novice-inflammation-2.7 / reference.html # variable).\n",
    "Uma variável é apenas um nome para um valor, como `x`,` current_temperature` ou `subject_id`.\n",
    "Podemos criar uma nova variável simplesmente atribuindo-lhe um valor usando `=`, sem precisar declarar o seu tipo. Vamos rodar `numpy.loadtxt` novamente e salvar seu resultado:"
   ]
  },
  {
   "cell_type": "code",
   "execution_count": 12,
   "metadata": {
    "cell_tags": []
   },
   "outputs": [],
   "source": [
    "data = numpy.loadtxt(fname='data/inflammation-01.csv', delimiter=',')"
   ]
  },
  {
   "cell_type": "markdown",
   "metadata": {
    "cell_tags": []
   },
   "source": [
    "Esta declaração não produz qualquer saída porque a atribuição não exibe nada.\n",
    "Se quisermos verificar se nossos dados foram carregados, podemos imprimir o valor da variável:"
   ]
  },
  {
   "cell_type": "code",
   "execution_count": 13,
   "metadata": {
    "cell_tags": []
   },
   "outputs": [
    {
     "name": "stdout",
     "output_type": "stream",
     "text": [
      "[[0. 0. 1. ... 3. 0. 0.]\n",
      " [0. 1. 2. ... 1. 0. 1.]\n",
      " [0. 1. 1. ... 2. 1. 1.]\n",
      " ...\n",
      " [0. 1. 1. ... 1. 1. 1.]\n",
      " [0. 0. 0. ... 0. 2. 0.]\n",
      " [0. 0. 1. ... 1. 1. 0.]]\n"
     ]
    }
   ],
   "source": [
    "print (data)"
   ]
  },
  {
   "cell_type": "markdown",
   "metadata": {
    "cell_tags": [
     "challenges"
    ]
   },
   "source": [
    "#### Exercícios\n",
    "\n",
    "1. Desenhe diagramas mostrando quais variáveis se referem aos valores após cada declaração no seguinte programa:\n",
    "    ~~~python\n",
    "    mass = 47.5\n",
    "    age = 122\n",
    "    mass = mass * 2.0\n",
    "    age = age - 20\n",
    "    ~~~\n",
    "\n",
    "2.  O que o programa a seguir imprime?\n",
    "\n",
    "    ~~~python\n",
    "    first, second = 'Grace', 'Hopper'\n",
    "    third, fourth = second, first\n",
    "    print (third, fourth)\n",
    "    ~~~"
   ]
  },
  {
   "cell_type": "code",
   "execution_count": 14,
   "metadata": {},
   "outputs": [
    {
     "name": "stdout",
     "output_type": "stream",
     "text": [
      "Hopper Grace\n"
     ]
    }
   ],
   "source": [
    "first, second= 'Grace','Hopper'\n",
    "third, fourth= second, first\n",
    "print (third, fourth)"
   ]
  },
  {
   "cell_type": "code",
   "execution_count": 15,
   "metadata": {},
   "outputs": [],
   "source": [
    "mass= 47.5\n",
    "age=122\n",
    "mass= mass*2.0\n",
    "age=age-20"
   ]
  },
  {
   "cell_type": "code",
   "execution_count": 16,
   "metadata": {},
   "outputs": [
    {
     "name": "stdout",
     "output_type": "stream",
     "text": [
      "95.0\n"
     ]
    }
   ],
   "source": [
    "print (mass)"
   ]
  },
  {
   "cell_type": "code",
   "execution_count": 17,
   "metadata": {},
   "outputs": [
    {
     "name": "stdout",
     "output_type": "stream",
     "text": [
      "102\n"
     ]
    }
   ],
   "source": [
    "print (age)"
   ]
  },
  {
   "cell_type": "markdown",
   "metadata": {
    "cell_tags": []
   },
   "source": [
    "### Manipulando os Dados"
   ]
  },
  {
   "cell_type": "markdown",
   "metadata": {
    "cell_tags": []
   },
   "source": [
    "Agora que nossos dados estão na memória, podemos começar a fazer coisas com eles.\n",
    "Primeiro,\n",
    "vamos perguntar a qual [tipo](http://swcarpentry.github.io/python-novice-inflammation-2.7/reference.html#data-type) de coisa `data` se refere:"
   ]
  },
  {
   "cell_type": "code",
   "execution_count": 18,
   "metadata": {
    "cell_tags": []
   },
   "outputs": [
    {
     "name": "stdout",
     "output_type": "stream",
     "text": [
      "float64\n"
     ]
    }
   ],
   "source": [
    "print (data.dtype)"
   ]
  },
  {
   "cell_type": "markdown",
   "metadata": {
    "cell_tags": []
   },
   "source": [
    "O resultado nos diz que `data` atualmente se refere a uma matriz N-dimensional criada pela biblioteca NumPy.\n",
    "Podemos ver como que é  o [formato/shape](http://swcarpentry.github.io/python-novice-inflammation-2.7/reference.htm#shape) desta forma:"
   ]
  },
  {
   "cell_type": "code",
   "execution_count": 19,
   "metadata": {
    "cell_tags": []
   },
   "outputs": [
    {
     "name": "stdout",
     "output_type": "stream",
     "text": [
      "(60, 40)\n"
     ]
    }
   ],
   "source": [
    "print (data.shape)"
   ]
  },
  {
   "cell_type": "markdown",
   "metadata": {
    "cell_tags": []
   },
   "source": [
    "Isso nos diz que `data` possui 60 linhas e 40 colunas.\n",
    "`data.shape` é um [membro](http://swcarpentry.github.io/python-novice-inflammation-2.7/reference.htm#member) de `data`,\n",
    "isto é, um valor que é armazenado como parte de um valor maior.\n",
    "Usamos a mesma notação pontilhada para os membros de valores que usamos para as funções em bibliotecas porque eles têm o mesmo relacionamento parte-todo."
   ]
  },
  {
   "cell_type": "markdown",
   "metadata": {
    "cell_tags": []
   },
   "source": [
    "Se quisermos obter um único valor da matriz, devemos fornecer um [índice](http://swcarpentry.github.io/python-novice-inflammation-2.7/reference.htm#index) entre colchetes, assim como fazemos em matemática:"
   ]
  },
  {
   "cell_type": "code",
   "execution_count": 20,
   "metadata": {
    "cell_tags": []
   },
   "outputs": [
    {
     "name": "stdout",
     "output_type": "stream",
     "text": [
      "first value in data: 0.0\n"
     ]
    }
   ],
   "source": [
    "print ('first value in data:', data[0, 0])"
   ]
  },
  {
   "cell_type": "code",
   "execution_count": 21,
   "metadata": {
    "cell_tags": []
   },
   "outputs": [
    {
     "name": "stdout",
     "output_type": "stream",
     "text": [
      "middle value in data: 1.0\n"
     ]
    }
   ],
   "source": [
    "print ('middle value in data:', data[15, 2])"
   ]
  },
  {
   "cell_type": "markdown",
   "metadata": {
    "cell_tags": []
   },
   "source": [
    "A expressão `data [30, 20]` pode não surpreendê-lo, mas `data [0, 0]` pode.\n",
    "Linguagens de programação como Fortran e MATLAB começam a contar às 1,\n",
    "porque isso é o que os seres humanos fizeram há milhares de anos.\n",
    "Idiomas na família C (incluindo C ++, Java, Perl e Python) contagem de 0\n",
    "porque isso é mais simples para os computadores fazerem.\n",
    "Como um resultado,\n",
    "se tivermos um M&times;N array em Python,\n",
    "seus índices vão de 0 a M-1 no primeiro eixo\n",
    "e 0 a N-1 no segundo.\n",
    "Demora um pouco de acostumar,\n",
    "mas uma maneira de lembrar a regra é que\n",
    "O índice é o número de passos que temos que tomar desde o início para obter o item que queremos.\n",
    "\n",
    "<img src=\"files/img/python-zero-index.png\" alt=\"Indexação do Python\" />\n",
    "\n",
    "> #### Nota\n",
    ">\n",
    "> O que também pode surpreender você é que quando o Python exibe uma matriz,\n",
    "> mostra o elemento com índice `[0, 0]` no canto superior esquerdo\n",
    "> em vez da inferior esquerda.\n",
    "> Isso é consistente com a forma como os matemáticos desenham matrizes,\n",
    "> mas diferente das coordenadas cartesianas.\n",
    "> Os índices são (linha, coluna) em vez de (coluna, linha) pelo mesmo motivo."
   ]
  },
  {
   "cell_type": "markdown",
   "metadata": {
    "cell_tags": []
   },
   "source": [
    "Um índice como `[30, 20]` seleciona um único elemento de uma matriz,\n",
    "mas também podemos selecionar seções inteiras.\n",
    "Por exemplo,\n",
    "podemos selecionar os primeiros dez dias (colunas) de valores\n",
    "para as primeiras quatro (linhas) pacientes como este:"
   ]
  },
  {
   "cell_type": "code",
   "execution_count": 22,
   "metadata": {
    "cell_tags": []
   },
   "outputs": [
    {
     "name": "stdout",
     "output_type": "stream",
     "text": [
      "[[ 3.  3. 10.  5.  7.  4.  7.  7. 12. 18.  6. 13. 11. 11.  7.  7.  4.  6.\n",
      "   8.  8.  4.  4.  5.  7.  3.  4.  2.  3.  0.  0.]\n",
      " [10. 11.  5.  9.  4.  4.  7. 16.  8.  6. 18.  4. 12.  5. 12.  7. 11.  5.\n",
      "  11.  3.  3.  5.  4.  4.  5.  5.  1.  1.  0.  1.]\n",
      " [ 5.  7.  4.  5.  4. 15.  5. 11.  9. 10. 19. 14. 12. 17.  7. 12. 11.  7.\n",
      "   4.  2. 10.  5.  4.  2.  2.  3.  2.  2.  1.  1.]\n",
      " [10.  7.  9. 13.  8.  8. 15. 10. 10.  7. 17.  4.  4.  7.  6. 15.  6.  4.\n",
      "   9. 11.  3.  5.  6.  3.  3.  4.  2.  3.  2.  1.]]\n"
     ]
    }
   ],
   "source": [
    "print (data[:4, 10:])"
   ]
  },
  {
   "cell_type": "markdown",
   "metadata": {
    "cell_tags": []
   },
   "source": [
    "O [intervalo](http://swcarpentry.github.io/python-novice-inflammation-2.7/reference.htm#slice) `0: 4` significa:\n",
    "\"Comece no índice 0 e vá até, mas não incluído, o índice 4.\"\n",
    "Novamente, o até-mas-nao-incluso pode levar um tempo para acostumar,\n",
    "mas a regra é que a diferença entre os limites superior e inferior é o número de valores no intervalo.\n",
    "\n",
    "Não temos que começar, necessariamente, intervalos em 0:"
   ]
  },
  {
   "cell_type": "code",
   "execution_count": 23,
   "metadata": {
    "cell_tags": []
   },
   "outputs": [
    {
     "name": "stdout",
     "output_type": "stream",
     "text": [
      "[[0. 0. 1. 2. 2. 4. 2. 1. 6. 4.]\n",
      " [0. 0. 2. 2. 4. 2. 2. 5. 5. 8.]\n",
      " [0. 0. 1. 2. 3. 1. 2. 3. 5. 3.]\n",
      " [0. 0. 0. 3. 1. 5. 6. 5. 5. 8.]\n",
      " [0. 1. 1. 2. 1. 3. 5. 3. 5. 8.]]\n"
     ]
    }
   ],
   "source": [
    "print (data[5:10, 0:10])"
   ]
  },
  {
   "cell_type": "markdown",
   "metadata": {
    "cell_tags": []
   },
   "source": [
    "e não precisamos acessar todos os valores do intervalo  --- se fornecemos um [passo](http://swcarpentry.github.io/python-novice-inflammation-2.7/reference.htm#stride),\n",
    "Python pega os valores espaçados com o `passo` definido:"
   ]
  },
  {
   "cell_type": "code",
   "execution_count": 24,
   "metadata": {
    "cell_tags": []
   },
   "outputs": [
    {
     "name": "stdout",
     "output_type": "stream",
     "text": [
      "[[0. 1. 1. 4. 8.]\n",
      " [0. 2. 4. 2. 6.]\n",
      " [0. 2. 4. 2. 5.]\n",
      " [0. 1. 1. 5. 5.]]\n"
     ]
    }
   ],
   "source": [
    "print (data[0:10:3, 0:10:2])"
   ]
  },
  {
   "cell_type": "markdown",
   "metadata": {
    "cell_tags": []
   },
   "source": [
    "Aqui,\n",
    "nós pegamos as linhas 0, 3, 6 e 9,\n",
    "e as colunas 0, 2, 4, 6 e 8.\n",
    "(Novamente, sempre incluímos o limite inferior,\n",
    "mas pare quando alcançamos ou cruzamos o limite superior.)"
   ]
  },
  {
   "cell_type": "markdown",
   "metadata": {
    "cell_tags": []
   },
   "source": [
    "Também não precisamos incluir o limite superior e inferior do intervalo.\n",
    "Se não incluímos o limite inferior, Python usa 0 por padrão;\n",
    "se não incluímos o superior,\n",
    "o intervalo corre até o final do eixo, e se não incluímos nenhum\n",
    "(isto é, se usarmos apenas ':' por conta própria)\n",
    "O intervalo inclui tudo:"
   ]
  },
  {
   "cell_type": "code",
   "execution_count": 25,
   "metadata": {
    "cell_tags": []
   },
   "outputs": [
    {
     "name": "stdout",
     "output_type": "stream",
     "text": [
      "small is:\n",
      "[[2. 3. 0. 0.]\n",
      " [1. 1. 0. 1.]\n",
      " [2. 2. 1. 1.]]\n"
     ]
    }
   ],
   "source": [
    "small = data[:3, 36:]\n",
    "print ('small is:')\n",
    "print (small)"
   ]
  },
  {
   "cell_type": "markdown",
   "metadata": {
    "cell_tags": []
   },
   "source": [
    "Arrays também sabem como executar operações matemáticas comuns em seus valores.\n",
    "Se queremos encontrar a inflamação média para todos os pacientes em todos os dias,\n",
    "por exemplo, podemos pedir a matriz pelo seu valor médio:"
   ]
  },
  {
   "cell_type": "code",
   "execution_count": 26,
   "metadata": {
    "cell_tags": []
   },
   "outputs": [
    {
     "name": "stdout",
     "output_type": "stream",
     "text": [
      "6.14875\n"
     ]
    }
   ],
   "source": [
    "print (data.mean())"
   ]
  },
  {
   "cell_type": "code",
   "execution_count": 27,
   "metadata": {},
   "outputs": [
    {
     "data": {
      "text/plain": [
       "array([[[0., 0., 0., 0., 0., 0., 0., 0., 0., 0.],\n",
       "        [0., 0., 0., 0., 0., 0., 0., 0., 0., 0.],\n",
       "        [0., 0., 0., 0., 0., 0., 0., 0., 0., 0.],\n",
       "        [0., 0., 0., 0., 0., 0., 0., 0., 0., 0.],\n",
       "        [0., 0., 0., 0., 0., 0., 0., 0., 0., 0.],\n",
       "        [0., 0., 0., 0., 0., 0., 0., 0., 0., 0.],\n",
       "        [0., 0., 0., 0., 0., 0., 0., 0., 0., 0.],\n",
       "        [0., 0., 0., 0., 0., 0., 0., 0., 0., 0.],\n",
       "        [0., 0., 0., 0., 0., 0., 0., 0., 0., 0.],\n",
       "        [0., 0., 0., 0., 0., 0., 0., 0., 0., 0.]],\n",
       "\n",
       "       [[0., 0., 0., 0., 0., 0., 0., 0., 0., 0.],\n",
       "        [0., 0., 0., 0., 0., 0., 0., 0., 0., 0.],\n",
       "        [0., 0., 0., 0., 0., 0., 0., 0., 0., 0.],\n",
       "        [0., 0., 0., 0., 0., 0., 0., 0., 0., 0.],\n",
       "        [0., 0., 0., 0., 0., 0., 0., 0., 0., 0.],\n",
       "        [0., 0., 0., 0., 0., 0., 0., 0., 0., 0.],\n",
       "        [0., 0., 0., 0., 0., 0., 0., 0., 0., 0.],\n",
       "        [0., 0., 0., 0., 0., 0., 0., 0., 0., 0.],\n",
       "        [0., 0., 0., 0., 0., 0., 0., 0., 0., 0.],\n",
       "        [0., 0., 0., 0., 0., 0., 0., 0., 0., 0.]],\n",
       "\n",
       "       [[0., 0., 0., 0., 0., 0., 0., 0., 0., 0.],\n",
       "        [0., 0., 0., 0., 0., 0., 0., 0., 0., 0.],\n",
       "        [0., 0., 0., 0., 0., 0., 0., 0., 0., 0.],\n",
       "        [0., 0., 0., 0., 0., 0., 0., 0., 0., 0.],\n",
       "        [0., 0., 0., 0., 0., 0., 0., 0., 0., 0.],\n",
       "        [0., 0., 0., 0., 0., 0., 0., 0., 0., 0.],\n",
       "        [0., 0., 0., 0., 0., 0., 0., 0., 0., 0.],\n",
       "        [0., 0., 0., 0., 0., 0., 0., 0., 0., 0.],\n",
       "        [0., 0., 0., 0., 0., 0., 0., 0., 0., 0.],\n",
       "        [0., 0., 0., 0., 0., 0., 0., 0., 0., 0.]]])"
      ]
     },
     "execution_count": 27,
     "metadata": {},
     "output_type": "execute_result"
    }
   ],
   "source": [
    "numpy.zeros((3,10,10))"
   ]
  },
  {
   "cell_type": "markdown",
   "metadata": {
    "cell_tags": []
   },
   "source": [
    "`mean` é um [método](http://swcarpentry.github.io/python-novice-inflammation-2.7/reference.htm#method) da matriz,\n",
    "isto é, uma função que lhe pertence\n",
    "da mesma forma que o `shape` do membro faz.\n",
    "Se as variáveis são substantivos, os métodos são verbos:\n",
    "Eles são o que o assunto em questão sabe como fazer.\n",
    "É por isso que `data.shape` não precisa ser chamado\n",
    "(é só uma coisa)\n",
    "mas `data.mean ()` faz\n",
    "(é uma ação).\n",
    "É também por isso que precisamos de parênteses vazios para `data.mean ()`:\n",
    "mesmo quando não passamos em nenhum parâmetro,\n",
    "parênteses são como dizer ao Python para ir e fazer algo por nós.\n",
    "\n",
    "As matrizes numPy têm muitos métodos úteis:"
   ]
  },
  {
   "cell_type": "code",
   "execution_count": 28,
   "metadata": {
    "cell_tags": []
   },
   "outputs": [
    {
     "name": "stdout",
     "output_type": "stream",
     "text": [
      "maximum inflammation: 20.0\n",
      "minimum inflammation: 0.0\n",
      "standard deviation: 4.613833197118566\n"
     ]
    }
   ],
   "source": [
    "print ('maximum inflammation:', data.max())\n",
    "print ('minimum inflammation:', data.min())\n",
    "print ('standard deviation:', data.std())"
   ]
  },
  {
   "cell_type": "markdown",
   "metadata": {
    "cell_tags": []
   },
   "source": [
    "Ao analisar dados,\n",
    "muitas vezes queremos olhar para estatísticas parciais,\n",
    "como o valor máximo por paciente\n",
    "ou o valor médio por dia.\n",
    "Uma maneira de fazer isso é selecionar os dados que queremos para criar uma nova matriz temporária, e então fazer o cálculo:"
   ]
  },
  {
   "cell_type": "code",
   "execution_count": 29,
   "metadata": {
    "cell_tags": []
   },
   "outputs": [
    {
     "name": "stdout",
     "output_type": "stream",
     "text": [
      "maximum inflammation for patient 0: 18.0\n"
     ]
    }
   ],
   "source": [
    "patient_0 = data[0, :] # 0 on the first axis, everything on the second\n",
    "print ('maximum inflammation for patient 0:', patient_0.max())"
   ]
  },
  {
   "cell_type": "markdown",
   "metadata": {
    "cell_tags": []
   },
   "source": [
    "Na verdade, não precisamos armazenar a linha em uma variável própria.\n",
    "Em vez disso, podemos combinar a seleção e o método de chamada:"
   ]
  },
  {
   "cell_type": "code",
   "execution_count": 30,
   "metadata": {
    "cell_tags": []
   },
   "outputs": [
    {
     "name": "stdout",
     "output_type": "stream",
     "text": [
      "maximum inflammation for patient 2: 19.0\n"
     ]
    }
   ],
   "source": [
    "print ('maximum inflammation for patient 2:', data[2, :].max())"
   ]
  },
  {
   "cell_type": "markdown",
   "metadata": {
    "cell_tags": [
     "challenges"
    ]
   },
   "source": [
    "#### Exercício\n",
    "\n",
    "Uma subseção de uma matriz é chamada de [fatia](http://swcarpentry.github.io/python-novice-inflammation-2.7/reference.html#slice).\n",
    "Podemos pegar fatias de strings de caracteres também:"
   ]
  },
  {
   "cell_type": "code",
   "execution_count": 31,
   "metadata": {
    "cell_tags": [
     "challenges"
    ]
   },
   "outputs": [
    {
     "name": "stdout",
     "output_type": "stream",
     "text": [
      "first three characters: oxy\n",
      "last three characters: gen\n"
     ]
    }
   ],
   "source": [
    "element = 'oxygen'\n",
    "print ('first three characters:', element[:3])\n",
    "print ('last three characters:', element[3:])"
   ]
  },
  {
   "cell_type": "markdown",
   "metadata": {
    "cell_tags": [
     "challenges"
    ]
   },
   "source": [
    "1. Qual é o valor de `element [: 4]`?\n",
    "     E `element [4:]`?\n",
    "     Ou `element [:]`?\n",
    "\n",
    "1. O que é `element [-1]`?\n",
    "     O que é `element [-2]`?\n",
    "     Dadas essas respostas,\n",
    "     explique o que `element [1: -1]` faz.\n",
    "\n",
    "1. A expressão `element [3: 3]` produz uma [string vazia](http://swcarpentry.github.io/python-novice-inflammation-2.7/reference.html#empty-string),\n",
    "     ou seja, uma string que não contém caracteres.\n",
    "     Se `data` contém nossa matriz de dados de pacientes,\n",
    "     O que `data [3: 3, 4: 4]` produz?\n",
    "     E quanto a `data [3: 3,:]`?"
   ]
  },
  {
   "cell_type": "code",
   "execution_count": null,
   "metadata": {},
   "outputs": [],
   "source": []
  },
  {
   "cell_type": "markdown",
   "metadata": {
    "cell_tags": []
   },
   "source": [
    "### Plotando"
   ]
  },
  {
   "cell_type": "markdown",
   "metadata": {
    "cell_tags": []
   },
   "source": [
    "O matemático Richard Hamming já disse,\n",
    "\"O objetivo da computação é gerar insights, não números\"\n",
    "e a melhor maneira de obter estes insights é visualizandos os dados.\n",
    "A visualização merece uma leitura inteira (ou curso) própria,\n",
    "mas podemos explorar alguns recursos da biblioteca `matplotlib` do Python aqui.\n",
    "Primeiro,\n",
    "digamos ao IPython Notebook que queremos que nossos gráficos sejam exibidos inline,\n",
    "em vez de em uma janela de visualização separada:"
   ]
  },
  {
   "cell_type": "code",
   "execution_count": 32,
   "metadata": {
    "cell_tags": []
   },
   "outputs": [],
   "source": [
    "%matplotlib inline"
   ]
  },
  {
   "cell_type": "markdown",
   "metadata": {
    "cell_tags": []
   },
   "source": [
    "O `%` no início da linha indica que este é um comando para o notebook,\n",
    "em vez de uma declaração em Python.\n",
    "A seguir, vamos importar o módulo `pyplot` de ` matplotlib`\n",
    "e usar duas de suas funções para criar e exibir um mapa de calor de nossos dados:"
   ]
  },
  {
   "cell_type": "code",
   "execution_count": 33,
   "metadata": {
    "cell_tags": []
   },
   "outputs": [
    {
     "data": {
      "image/png": "[encoded data removed]",
      "text/plain": [
       "<Figure size 432x288 with 1 Axes>"
      ]
     },
     "metadata": {
      "needs_background": "light"
     },
     "output_type": "display_data"
    }
   ],
   "source": [
    "from matplotlib import pyplot\n",
    "pyplot.imshow(data[2:,:38], cmap=\"inferno\")\n",
    "pyplot.show()"
   ]
  },
  {
   "cell_type": "markdown",
   "metadata": {
    "cell_tags": []
   },
   "source": [
    "As regiões azuis neste mapa de calor são valores baixos, enquanto o vermelho mostra valores altos.\n",
    "Como podemos ver, a inflamação aumenta e cai em um período de 40 dias.\n",
    "Vamos dar uma olhada na inflamação média ao longo do tempo:"
   ]
  },
  {
   "cell_type": "code",
   "execution_count": 34,
   "metadata": {},
   "outputs": [
    {
     "data": {
      "text/plain": [
       "(60, 40)"
      ]
     },
     "execution_count": 34,
     "metadata": {},
     "output_type": "execute_result"
    }
   ],
   "source": [
    "data.shape"
   ]
  },
  {
   "cell_type": "code",
   "execution_count": 35,
   "metadata": {
    "cell_tags": []
   },
   "outputs": [
    {
     "data": {
      "image/png": "[encoded data removed]",
      "text/plain": [
       "<Figure size 432x288 with 1 Axes>"
      ]
     },
     "metadata": {
      "needs_background": "light"
     },
     "output_type": "display_data"
    }
   ],
   "source": [
    "ave_inflammation = data.mean(axis=0)\n",
    "pyplot.plot(ave_inflammation)\n",
    "pyplot.show()"
   ]
  },
  {
   "cell_type": "markdown",
   "metadata": {
    "cell_tags": []
   },
   "source": [
    "Aqui,\n",
    "colocamos a média por dia em todos os pacientes na variável `ave_inflammation`,\n",
    "então pedimos o `pyplot` para criar e exibir um gráfico de linha desses valores.\n",
    "O resultado é aproximadamente um aumento linear e queda,o que é suspeito:\n",
    "com base em outros estudos, esperamos um aumento mais acentuado e queda mais lenta.\n",
    "Vamos dar uma olhada em outras duas estatísticas:"
   ]
  },
  {
   "cell_type": "code",
   "execution_count": 36,
   "metadata": {
    "cell_tags": []
   },
   "outputs": [
    {
     "name": "stdout",
     "output_type": "stream",
     "text": [
      "inflamação máxima por dia\n"
     ]
    },
    {
     "data": {
      "image/png": "[encoded data removed]",
      "text/plain": [
       "<Figure size 432x288 with 1 Axes>"
      ]
     },
     "metadata": {
      "needs_background": "light"
     },
     "output_type": "display_data"
    },
    {
     "name": "stdout",
     "output_type": "stream",
     "text": [
      "inflamação mínima por dia\n"
     ]
    },
    {
     "data": {
      "image/png": "[encoded data removed]",
      "text/plain": [
       "<Figure size 432x288 with 1 Axes>"
      ]
     },
     "metadata": {
      "needs_background": "light"
     },
     "output_type": "display_data"
    }
   ],
   "source": [
    "print ('inflamação máxima por dia')\n",
    "pyplot.plot(data.max(axis=0))\n",
    "pyplot.show()\n",
    "\n",
    "print ('inflamação mínima por dia')\n",
    "pyplot.plot(data.min(axis=0))\n",
    "pyplot.show()"
   ]
  },
  {
   "cell_type": "markdown",
   "metadata": {
    "cell_tags": []
   },
   "source": [
    "O valor máximo aumenta e cai perfeitamente,\n",
    "enquanto o mínimo parece ser uma função de etapas.\n",
    "Nenhum resultado parece particularmente provável,\n",
    "então, há um erro em nossos cálculos\n",
    "ou algo está errado com nossos dados."
   ]
  },
  {
   "cell_type": "markdown",
   "metadata": {
    "cell_tags": [
     "challenges"
    ]
   },
   "source": [
    "#### Exercício\n",
    "1. Crie um gráfico que mostre o desvio padrão (numpy.std) dos dados de inflamação para cada dia em todos os pacientes."
   ]
  },
  {
   "cell_type": "code",
   "execution_count": 37,
   "metadata": {},
   "outputs": [
    {
     "data": {
      "image/png": "[encoded data removed]",
      "text/plain": [
       "<Figure size 432x288 with 1 Axes>"
      ]
     },
     "metadata": {
      "needs_background": "light"
     },
     "output_type": "display_data"
    },
    {
     "data": {
      "image/png": "[encoded data removed]",
      "text/plain": [
       "<Figure size 1080x360 with 4 Axes>"
      ]
     },
     "metadata": {
      "needs_background": "light"
     },
     "output_type": "display_data"
    }
   ],
   "source": [
    "from matplotlib import pyplot as plt\n",
    "'''\n",
    "#axis = 1 refere-se as colunas, enquanto axis = 0 as linhas\n",
    "pyplot.plot(\n",
    "    data.std(axis=0)\n",
    ")\n",
    "pyplot.show()\n",
    "#Explicação: Executa a função numpy.std() para cada linha de cada coluna... 0 < 40\n",
    "\n",
    "\n",
    "d = numpy.array([[1 , 2 , 3],\n",
    "                 [4 , 5 , 7]])\n",
    "d.sum(axis=0)\n",
    "'''\n",
    "plt.title(\"Mapa de calor\")\n",
    "plt.xlabel('Dias')\n",
    "plt.imshow(data, cmap=\"inferno\")\n",
    "\n",
    "\n",
    "plt.figure(figsize=(15, 5))\n",
    "\n",
    "plt.subplot(1, 4, 1)\n",
    "plt.title('Desvio Padrão')\n",
    "plt.xlabel('Dias')\n",
    "plt.plot(data.std(axis = 0), color=\"red\")\n",
    "\n",
    "plt.subplot(1, 4, 2)\n",
    "plt.title('Inflamação Média')\n",
    "plt.xlabel('Dias')\n",
    "plt.plot(data.mean(axis = 0))\n",
    "\n",
    "plt.subplot(1, 4, 3)\n",
    "plt.title('Inflamação Máxima')\n",
    "plt.xlabel('Dias')\n",
    "plt.plot(data.max(axis = 0))\n",
    "\n",
    "plt.subplot(1, 4, 4)\n",
    "plt.title('Inflamação Mínima')\n",
    "plt.xlabel('Dias')\n",
    "plt.plot(data.min(axis = 0))\n",
    "plt.show()\n",
    "\n"
   ]
  },
  {
   "cell_type": "code",
   "execution_count": null,
   "metadata": {},
   "outputs": [],
   "source": []
  },
  {
   "cell_type": "markdown",
   "metadata": {
    "cell_tags": []
   },
   "source": [
    "### Resumindo"
   ]
  },
  {
   "cell_type": "markdown",
   "metadata": {
    "cell_tags": []
   },
   "source": [
    "É muito comum criar um [alias](http://swcarpentry.github.io/python-novice-inflammation-2.7/reference.html#alias) (alias renomeação de bilioteca) para uma biblioteca ao importá-la\n",
    "para reduzir a quantidade de digitação que temos que fazer.\n",
    "Aqui estão os nossos três gráficos lado a lado usando aliases para `numpy` e` pyplot`:"
   ]
  },
  {
   "cell_type": "code",
   "execution_count": 38,
   "metadata": {
    "cell_tags": []
   },
   "outputs": [
    {
     "data": {
      "image/png": "[encoded data removed]",
      "text/plain": [
       "<Figure size 720x216 with 3 Axes>"
      ]
     },
     "metadata": {
      "needs_background": "light"
     },
     "output_type": "display_data"
    }
   ],
   "source": [
    "import numpy as np\n",
    "from matplotlib import pyplot as plt\n",
    "\n",
    "data = np.loadtxt(fname='data/inflammation-01.csv', delimiter=',')\n",
    "\n",
    "plt.figure(figsize=(10.0, 3.0))\n",
    "\n",
    "plt.subplot(1, 3, 1)\n",
    "plt.ylabel('average')\n",
    "plt.plot(data.mean(0))\n",
    "\n",
    "plt.subplot(1, 3, 2)\n",
    "plt.ylabel('max')\n",
    "plt.plot(data.max(0))\n",
    "\n",
    "plt.subplot(1, 3, 3)\n",
    "plt.ylabel('min')\n",
    "plt.plot(data.min(0))\n",
    "\n",
    "plt.tight_layout()\n",
    "plt.show()"
   ]
  },
  {
   "cell_type": "markdown",
   "metadata": {
    "cell_tags": []
   },
   "source": [
    "As duas primeiras linhas recarregam nossas bibliotecas como `np` e `plt`,\n",
    "que são os alias que a maioria dos programadores de Python usam.\n",
    "A chamada para `loadtxt` lê nossos dados,\n",
    " o resto do programa diz a biblioteca de plota os gráficos\n",
    "o quão grande queremos que a figura seja,\n",
    "que estamos criando três sub-gráficos,\n",
    "o que desenhar para cada um,\n",
    "e que queremos um layout menor.\n",
    "(Perversamente,\n",
    "se excluirmos essa chamada para `plt.tight_layout ()`,\n",
    "os gráficos sairão realmente esticados e mais próxima.)"
   ]
  },
  {
   "cell_type": "markdown",
   "metadata": {
    "cell_tags": [
     "challenges"
    ]
   },
   "source": [
    "#### Exercício\n",
    "\n",
    "1. Modifique o programa para exibir os três gráficos em cima um do outro em vez de lado a lado."
   ]
  },
  {
   "cell_type": "code",
   "execution_count": 39,
   "metadata": {},
   "outputs": [
    {
     "data": {
      "image/png": "[encoded data removed]",
      "text/plain": [
       "<Figure size 360x720 with 3 Axes>"
      ]
     },
     "metadata": {
      "needs_background": "light"
     },
     "output_type": "display_data"
    }
   ],
   "source": [
    "plt.figure(figsize=(5.0, 10.0))\n",
    "\n",
    "plt.subplot(3, 1, 1)\n",
    "plt.ylabel('average')\n",
    "plt.plot(data.mean(0))\n",
    "\n",
    "plt.subplot(3, 1, 2)\n",
    "plt.ylabel('max')\n",
    "plt.plot(data.max(0))\n",
    "\n",
    "plt.subplot(3, 1, 3)\n",
    "plt.ylabel('min')\n",
    "plt.plot(data.min(0))\n",
    "\n",
    "plt.tight_layout()\n",
    "plt.show()"
   ]
  },
  {
   "cell_type": "code",
   "execution_count": null,
   "metadata": {},
   "outputs": [],
   "source": []
  },
  {
   "cell_type": "markdown",
   "metadata": {
    "cell_tags": [
     "keypoints"
    ]
   },
   "source": [
    "#### Pontos Principais\n",
    "* Importar uma biblioteca para um programa usando `import nome_da_biblioteca`.\n",
    "* Usar a biblioteca `numpy` para trabalhar com arrays em Python.\n",
    "* Usar `variável = valor` para atribuir um valor a uma variável e gravá-la na memória.\n",
    "* As variáveis são criadas sob demanda sempre que um valor lhes é atribuído.\n",
    "* Usar `print (alguma_coisa)` para exibir o valor de `alguma_coisa`.\n",
    "* A expressão `array.shape` dá a forma de uma matriz.\n",
    "* Usar `array [x, y]` para selecionar um único elemento de uma matriz.\n",
    "* Os índices de matriz começam em 0, não 1.\n",
    "* Usar `low: high` para especificar uma fatia que inclui os índices de `low` até `high-1`.\n",
    "* Toda a indexação e corte que funciona em arrays também funciona em strings.\n",
    "* Usar `# algum tipo de explicação` para adicionar comentários aos programas.\n",
    "* Usar `array.mean ()`, `array.max ()` e `array.min ()` para calcular estatísticas simples.\n",
    "* Usar `array.mean (axis = 0)` ou `array.mean (axis = 1)` para calcular estatísticas no eixo especificado.\n",
    "* Usar a biblioteca `pyplot` de ` matplotlib` para criar visualizações simples."
   ]
  },
  {
   "cell_type": "markdown",
   "metadata": {
    "cell_tags": []
   },
   "source": [
    "#### Próximos passos\n",
    "\n",
    "Nosso trabalho até agora nos convenceu de que algo está errado com nosso primeiro arquivo de dados. Gostaríamos de verificar os outros 11 da mesma maneira,\n",
    "mas digitar repetidamente os mesmos comandos é tedioso e propenso a erros.\n",
    "Como os computadores não ficam entediados (que sabemos)\n",
    "devemos criar uma maneira de fazer uma análise completa com um único comando,\n",
    "e então descobrir como repetir esse passo uma vez para cada arquivo.\n",
    "Essas operações são assuntos das próximas duas lições."
   ]
  },
  {
   "cell_type": "code",
   "execution_count": null,
   "metadata": {},
   "outputs": [],
   "source": []
  }
 ],
 "metadata": {
  "kernelspec": {
   "display_name": "Python 3",
   "language": "python",
   "name": "python3"
  },
  "language_info": {
   "codemirror_mode": {
    "name": "ipython",
    "version": 3
   },
   "file_extension": ".py",
   "mimetype": "text/x-python",
   "name": "python",
   "nbconvert_exporter": "python",
   "pygments_lexer": "ipython3",
   "version": "3.7.1"
  }
 },
 "nbformat": 4,
 "nbformat_minor": 1
}
