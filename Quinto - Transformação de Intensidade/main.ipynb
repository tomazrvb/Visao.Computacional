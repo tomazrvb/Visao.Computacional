{
 "cells": [
  {
   "cell_type": "code",
   "execution_count": 251,
   "metadata": {},
   "outputs": [],
   "source": [
    "import numpy as np\n",
    "from skimage.color import rgb2gray\n",
    "from skimage.io import imread_collection, imread, imsave\n",
    "from glob import glob\n",
    "import matplotlib.pyplot as plt"
   ]
  },
  {
   "cell_type": "code",
   "execution_count": 314,
   "metadata": {},
   "outputs": [],
   "source": [
    "base_normal = glob('data2/nodr/*')\n",
    "base_doente = glob('data/dr/*')"
   ]
  },
  {
   "cell_type": "markdown",
   "metadata": {},
   "source": [
    "### Função para plot de N imagens"
   ]
  },
  {
   "cell_type": "code",
   "execution_count": 335,
   "metadata": {},
   "outputs": [],
   "source": [
    "def plot(imagens, color = 'gray'):\n",
    "    if len(imagens) == 1:\n",
    "        plt.imshow(imagens[0], color)\n",
    "    else:    \n",
    "        fig, ax = plt.subplots(1, len(imagens), figsize = (15, 20))\n",
    "        for k, x in enumerate(imagens):        \n",
    "            ax[k].imshow(x, cmap = color)\n",
    "    plt.show()\n",
    "    \n",
    "def split_channel(img):\n",
    "    channels = []\n",
    "    for x in range(3):\n",
    "        channels.append(img[:,:, x])\n",
    "    return channels"
   ]
  },
  {
   "cell_type": "markdown",
   "metadata": {},
   "source": [
    "### Implementação das transformações de intensidade"
   ]
  },
  {
   "cell_type": "code",
   "execution_count": 316,
   "metadata": {},
   "outputs": [],
   "source": [
    "def __alply__(img, FILTER):\n",
    "    alt, larg = img.shape\n",
    "    for x in range(alt):\n",
    "        for y in range(larg):\n",
    "            img[x, y] = FILTER(img[x, y])\n",
    "    return img\n",
    "\n",
    "\n",
    "def alarg_constraste(img, K, E):\n",
    "    def __filter__(pixel):\n",
    "        return 1 / (1 + (K / pixel) ** E)\n",
    "    return __alply__(img.copy(), __filter__)\n",
    "\n",
    "\n",
    "def negativo(img, L):\n",
    "    def __filter__(pixel):\n",
    "        return L - 1 - pixel\n",
    "    return __alply__(img.copy(), __filter__)\n",
    "\n",
    "\n",
    "def logaritmo(img, C):\n",
    "    def __filter__(pixel):\n",
    "        return C * np.log(1 + pixel)\n",
    "    return __alply__(img.copy(), __filter__)\n",
    "\n",
    "\n",
    "def potencia(img, C, Y):\n",
    "    def __filter__(pixel):\n",
    "        return (C * pixel) ** Y\n",
    "    return __alply__(img.copy(), __filter__)\n",
    "\n"
   ]
  },
  {
   "cell_type": "markdown",
   "metadata": {},
   "source": [
    "### Aplicando"
   ]
  },
  {
   "cell_type": "code",
   "execution_count": 326,
   "metadata": {},
   "outputs": [],
   "source": [
    "import os\n",
    "min_range, max_range = 54, 56\n",
    "try:\n",
    "    os.mkdir('result')\n",
    "    for folder in ['alarg_constraste', 'negativo', 'logaritmo', 'potencia']:\n",
    "        path = 'result/' + folder\n",
    "        os.mkdir(path)\n",
    "        for param in range(min_range, max_range):\n",
    "            os.mkdir(path + '/' + str(param))\n",
    "except:\n",
    "    print(\"As pastas já existem!\")"
   ]
  },
  {
   "cell_type": "code",
   "execution_count": 337,
   "metadata": {},
   "outputs": [],
   "source": [
    "\n",
    "name = base_normal[0].split('/')[2]\n",
    "c = 0\n",
    "for param in range(min_range, max_range):\n",
    "    for vai in split_channel(imread(kem)):\n",
    "        img = vai\n",
    "\n",
    "        con = alarg_constraste(img, param, param)\n",
    "        pot = potencia(img, param, param)\n",
    "        neg = negativo(img, param)\n",
    "        log = logaritmo(img, param)\n",
    "\n",
    "        imsave('result/alarg_constraste/' + str(param) + '/' + str(name), con)\n",
    "        imsave('result/potencia/' + str(param) + '/' + str(name), pot)\n",
    "        imsave('result/negativo/' + str(param) + '/' + str(name), neg)\n",
    "        imsave('result/logaritmo/' + str(param) + '/' + str(c) + '-' + str(name), log)\n",
    "        c += 1"
   ]
  },
  {
   "cell_type": "code",
   "execution_count": null,
   "metadata": {},
   "outputs": [],
   "source": []
  }
 ],
 "metadata": {
  "kernelspec": {
   "display_name": "Python 3",
   "language": "python",
   "name": "python3"
  },
  "language_info": {
   "codemirror_mode": {
    "name": "ipython",
    "version": 3
   },
   "file_extension": ".py",
   "mimetype": "text/x-python",
   "name": "python",
   "nbconvert_exporter": "python",
   "pygments_lexer": "ipython3",
   "version": "3.7.3"
  }
 },
 "nbformat": 4,
 "nbformat_minor": 2
}
